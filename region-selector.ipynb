{
 "cells": [
  {
   "cell_type": "code",
   "execution_count": 1,
   "metadata": {},
   "outputs": [
    {
     "name": "stdout",
     "output_type": "stream",
     "text": [
      "Enter Typetext\n",
      "Enter Name Title\n",
      "Enter Typetext\n",
      "Enter Name Name\n",
      "Enter Typetext\n",
      "Enter Name Policy Number\n",
      "Enter Typebox\n",
      "Enter Name Male\n",
      "Enter Typebox \n",
      "Enter Name female\n",
      "Enter Typetext\n",
      "Enter Name dob\n",
      "Enter Typetext\n",
      "Enter Name contct\n",
      "Enter Typetext\n",
      "Enter Name emailid\n",
      "Enter Typetext\n",
      "Enter Name occupation\n",
      "Enter Typetext\n",
      "Enter Name pan no.\n",
      "[[(112, 378), (226, 404), 'text', 'Title'], [(312, 382), (1392, 400), 'text', 'Name'], [(902, 348), (1392, 372), 'text', 'Policy Number'], [(114, 406), (144, 426), 'box', 'Male'], [(236, 410), (256, 426), 'box ', 'female'], [(654, 410), (880, 426), 'text', 'dob'], [(992, 412), (1396, 430), 'text', 'contct'], [(116, 434), (878, 448), 'text', 'emailid'], [(226, 462), (908, 478), 'text', 'occupation'], [(1050, 482), (1390, 500), 'text', 'pan no.']]\n"
     ]
    },
    {
     "data": {
      "text/plain": [
       "<function destroyAllWindows>"
      ]
     },
     "execution_count": 1,
     "metadata": {},
     "output_type": "execute_result"
    }
   ],
   "source": [
    "import cv2\n",
    "import random\n",
    "\n",
    "path = 'page1.png'\n",
    "scale = 0.5\n",
    "circles = []\n",
    "counter = 0\n",
    "counter2 = 0\n",
    "point1=[]\n",
    "point2=[]\n",
    "myPoints = []\n",
    "myColor=[]\n",
    "def mousePoints(event,x,y,flags,params):\n",
    "    global counter,point1,point2,counter2,circles,myColor\n",
    "    if event == cv2.EVENT_LBUTTONDOWN:\n",
    "        if counter==0:\n",
    "            point1=int(x//scale),int(y//scale);\n",
    "            counter +=1\n",
    "            myColor = (random.randint(0,2)*200,random.randint(0,2)*200,random.randint(0,2)*200 )\n",
    "        elif counter ==1:\n",
    "            point2=int(x//scale),int(y//scale)\n",
    "            type = input('Enter Type')\n",
    "            name = input ('Enter Name ')\n",
    "            myPoints.append([point1,point2,type,name])\n",
    "            counter=0\n",
    "        circles.append([x,y,myColor])\n",
    "        counter2 += 1\n",
    "\n",
    "img = cv2.imread(path)\n",
    "h,w,c = img.shape\n",
    "img = cv2.resize(img,(w,h-250))\n",
    "#img = cv2.resize(img, (0, 0), None, scale, scale)\n",
    "\n",
    "while True:\n",
    "    # To Display points\n",
    "    for x,y,color in circles:\n",
    "        cv2.circle(img,(x,y),3,color,cv2.FILLED)\n",
    "    cv2.imshow(\"Original Image \", img)\n",
    "    cv2.setMouseCallback(\"Original Image \", mousePoints)\n",
    "    if cv2.waitKey(1) & 0xFF == ord('s'):\n",
    "        print(myPoints)\n",
    "        break\n",
    "cv2.destroyAllWindows"
   ]
  },
  {
   "cell_type": "code",
   "execution_count": null,
   "metadata": {},
   "outputs": [],
   "source": []
  }
 ],
 "metadata": {
  "kernelspec": {
   "display_name": "Python 3",
   "language": "python",
   "name": "python3"
  },
  "language_info": {
   "codemirror_mode": {
    "name": "ipython",
    "version": 3
   },
   "file_extension": ".py",
   "mimetype": "text/x-python",
   "name": "python",
   "nbconvert_exporter": "python",
   "pygments_lexer": "ipython3",
   "version": "3.7.7"
  }
 },
 "nbformat": 4,
 "nbformat_minor": 4
}
